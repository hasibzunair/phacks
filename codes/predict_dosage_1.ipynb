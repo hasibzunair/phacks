{
 "cells": [
  {
   "cell_type": "code",
   "execution_count": null,
   "metadata": {
    "colab": {
     "base_uri": "https://localhost:8080/",
     "height": 124
    },
    "colab_type": "code",
    "id": "-v4bb_T5w1sk",
    "outputId": "800b4f39-c7d4-401b-8c54-6c3e7277f868"
   },
   "outputs": [],
   "source": [
    "# save files in drive\n",
    "from google.colab import drive\n",
    "drive.mount('/content/gdrive')"
   ]
  },
  {
   "cell_type": "code",
   "execution_count": null,
   "metadata": {
    "colab": {},
    "colab_type": "code",
    "id": "KgIM4u5vyG_o"
   },
   "outputs": [],
   "source": [
    "import os\n",
    "from tqdm import tqdm\n",
    "import numpy as np\n",
    "import pandas as pd\n",
    "import matplotlib.pyplot as plt\n",
    "import seaborn as sns\n",
    "from sklearn.model_selection import train_test_split\n",
    "from sklearn.metrics import confusion_matrix"
   ]
  },
  {
   "cell_type": "code",
   "execution_count": null,
   "metadata": {
    "colab": {},
    "colab_type": "code",
    "id": "6HfcSM5MxFHb"
   },
   "outputs": [],
   "source": [
    "# Define paths\n",
    "base_path = os.path.abspath(\"gdrive/My Drive/pharmahacks/\")\n",
    "dataset_path = os.path.join(base_path, \"dataset\")\n",
    "data = os.path.join(dataset_path, 'PSP_Data_V3.xlsx')\n",
    "\n",
    "# Read the metadata\n",
    "#xls = pd.ExcelFile(data)\n",
    "#xls.sheet_names[:5]"
   ]
  },
  {
   "cell_type": "code",
   "execution_count": null,
   "metadata": {
    "colab": {},
    "colab_type": "code",
    "id": "evopJA1QHSIv"
   },
   "outputs": [],
   "source": [
    "# Helpers\n",
    "\n",
    "import pickle\n",
    "\n",
    "def save_obj(obj, name):\n",
    "    with open('{}'.format(dataset_path) + name + '.pkl', 'wb') as f:\n",
    "        pickle.dump(obj, f, pickle.HIGHEST_PROTOCOL)\n",
    "\n",
    "\n",
    "def load_obj(name):\n",
    "    with open('{}'.format(dataset_path) + name + '.pkl', 'rb') as f:\n",
    "        return pickle.load(f)\n",
    "\n",
    "def get_unique(arr):\n",
    "  '''\n",
    "  Return unique elements in list\n",
    "  '''\n",
    "  arr = set(arr)\n",
    "  return arr\n",
    "\n",
    "\n",
    "def read_column_vals(col_name):\n",
    "  '''\n",
    "  Return unique column names and all values for a column\n",
    "  '''\n",
    "  # read column values\n",
    "  vals = df[col_name].values\n",
    "  # get unique values\n",
    "  unique_vals = get_unique(vals)\n",
    "  num = len(vals)\n",
    "\n",
    "  return num, vals, unique_vals"
   ]
  },
  {
   "cell_type": "code",
   "execution_count": null,
   "metadata": {
    "colab": {
     "base_uri": "https://localhost:8080/",
     "height": 69
    },
    "colab_type": "code",
    "id": "kt9Bo0MNFyL5",
    "outputId": "ab579a94-176c-42ee-8490-efba8b70d659"
   },
   "outputs": [],
   "source": [
    "# Go through all worksheets and get column values\n",
    "\n",
    "sheetnames = [xls.sheet_names[-1]] # select latest sheet\n",
    "\n",
    "# Features\n",
    "x1 = [] # gender id\n",
    "x2 = [] # age\n",
    "x3 = [] # diag id\n",
    "x4 = [] # bio\n",
    "x5 = [] # patient rec drug\n",
    "x6 = [] # freq\n",
    "x7 = [] # status group\n",
    "x8 = [] # case state\n",
    "x9 = [] # patient id\n",
    "\n",
    "\n",
    "# start date, last date\n",
    "\n",
    "\n",
    "# Target\n",
    "y = []\n",
    "\n",
    "for name in sheetnames[:]:\n",
    "  print(name)\n",
    "  \n",
    "  # Get worksheet\n",
    "  df = pd.read_excel(data, sheet_name=name, header=1)\n",
    "  # Mark unknwon values as missing or NaN\n",
    "  df = df.loc[:,].replace('Unknown', np.NaN)\n",
    "  # Drop rows with missing values\n",
    "  df.dropna(inplace=True)\n",
    "  \n",
    "  # Read target column\n",
    "  occurences, y_all, uniq = read_column_vals(\"Dosage\")\n",
    "  \n",
    "  print(occurences)\n",
    "  print(uniq)\n",
    "\n",
    "  for val in y_all:\n",
    "    y.append(val)\n",
    "  \n",
    "\n",
    "  # Read feature column\n",
    "\n",
    "  _, gender, _ = read_column_vals(\"Gender ID\")\n",
    "  _, diagnosis, _ = read_column_vals(\"Diagnosis ID\")\n",
    "  _, age, _ = read_column_vals(\"Age Range\")\n",
    "  _, bio, _ = read_column_vals(\"Biologic Line of Therapy\")\n",
    "  _, drug, _ = read_column_vals(\"Patient Receiving Free Drug\")\n",
    "  _, frequency, _ = read_column_vals(\"Frequency\")\n",
    "  _, status, _ = read_column_vals(\"Status Group\")\n",
    "  _, case, _ = read_column_vals(\"Case State\")\n",
    "  _, names, _ = read_column_vals(\"Patient ID\")\n",
    "\n",
    "\n",
    "  for val in gender:\n",
    "    x1.append(val)\n",
    "\n",
    "  for val in diagnosis:\n",
    "    x2.append(val)\n",
    "\n",
    "  for val in age:\n",
    "    x3.append(val)\n",
    "  \n",
    "  for val in bio:\n",
    "    x4.append(val)\n",
    "\n",
    "  for val in drug:\n",
    "    x5.append(val)\n",
    "  \n",
    "  for val in frequency:\n",
    "    x6.append(val)\n",
    "\n",
    "  for val in status:\n",
    "    x7.append(val)\n",
    "  \n",
    "  for val in case:\n",
    "    x8.append(val)\n",
    "\n",
    "  for val in names:\n",
    "    x9.append(val)\n",
    "\n",
    "raw_features = [x1, x2, x3, x4, x5, x6, x7, x8, x9]\n",
    "\n",
    "\n",
    "raw_features = {\"Gender ID\": x1, \n",
    "                \"Age\": x2,\n",
    "                \"Diagnosis ID\": x3,\n",
    "                \"Bio Therapy\": x4,\n",
    "                \"Patient Rec Drug\": x5,\n",
    "                \"Frequency\": x6,\n",
    "                \"Status Group\": x7,\n",
    "                \"Case State\": x8,\n",
    "                \"Patient ID\": x9}\n",
    "\n",
    "print(len(raw_features), len(raw_features[\"Age\"]))\n",
    "\n",
    "for _, feat in raw_features.items():\n",
    "  print(len(feat))\n",
    "\n",
    "print(\"Y:\", len(y))\n",
    "\n",
    "save_obj(raw_features, 'raw_features')\n",
    "save_obj(y, 'target')"
   ]
  },
  {
   "cell_type": "markdown",
   "metadata": {
    "colab_type": "text",
    "id": "UKqtg4jHkH7-"
   },
   "source": [
    "### Load data"
   ]
  },
  {
   "cell_type": "code",
   "execution_count": null,
   "metadata": {
    "colab": {},
    "colab_type": "code",
    "id": "o2tB2thAd-X2"
   },
   "outputs": [],
   "source": [
    "raw_features = load_obj('raw_features')\n",
    "target = load_obj('target')"
   ]
  },
  {
   "cell_type": "code",
   "execution_count": null,
   "metadata": {
    "colab": {
     "base_uri": "https://localhost:8080/",
     "height": 191
    },
    "colab_type": "code",
    "id": "GdGX6dDdXtDM",
    "outputId": "696b447a-c071-4df1-c8fc-99d5a79eb77c"
   },
   "outputs": [],
   "source": [
    "for _, feat in raw_features.items():\n",
    "  print(len(feat))\n",
    "\n",
    "print(\"Y:\", len(target))"
   ]
  },
  {
   "cell_type": "code",
   "execution_count": null,
   "metadata": {
    "colab": {},
    "colab_type": "code",
    "id": "F-NXAK7AtUIW"
   },
   "outputs": [],
   "source": [
    "# worksheet\n",
    "#df = pd.read_excel(data, sheet_name=\"09-2019\", header=1)\n",
    "#df.head()\n",
    "#df.describe()\n",
    "# Number of unknowns in each column\n",
    "#print((df.loc[:,] == \"Unknown\").sum())\n",
    "# mark unknwon values as missing or NaN\n",
    "#df = df.loc[:,].replace('Unknown', np.NaN)\n",
    "\n",
    "# count the number of NaN values in each column\n",
    "#print(df.isnull().sum())\n",
    "# print the first 20 rows of data\n",
    "#df.head()\n",
    "# drop rows with missing values\n",
    "#df.dropna(inplace=True)\n",
    "#df.describe()\n",
    "# read dosage column\n",
    "#freq, y_all, uniques = read_column_vals(\"Dosage\")\n",
    "#print(freq)\n",
    "#print(uniques)\n",
    "#help(encoder.fit_transform)\n",
    "\n",
    "\n",
    "# Read gender id, diagnosis id\n",
    "\n",
    "#freq, gender, g_u = read_column_vals(\"Gender ID\")\n",
    "#print(freq)\n",
    "#print(g_u)\n",
    "\n",
    "#freq, diagnosis, d_u = read_column_vals(\"Diagnosis ID\")\n",
    "#print(freq)\n",
    "#print(d_u)\n",
    "#set(gender)\n",
    "#set(diagnosis)\n",
    "\n",
    "#feature = np.stack((gender, diagnosis), axis=1)\n",
    "#feature.shape"
   ]
  },
  {
   "cell_type": "markdown",
   "metadata": {
    "colab_type": "text",
    "id": "Zvea9H4skqBQ"
   },
   "source": [
    "### Label encoder"
   ]
  },
  {
   "cell_type": "code",
   "execution_count": null,
   "metadata": {
    "colab": {},
    "colab_type": "code",
    "id": "gfVCyU4R5GBk"
   },
   "outputs": [],
   "source": [
    "from sklearn.preprocessing import LabelEncoder\n",
    "encoder = LabelEncoder()\n",
    "\n",
    "def transform_to_numeric(arr):\n",
    "  arr = encoder.fit_transform(arr)\n",
    "  print(encoder.classes_)\n",
    "  return arr"
   ]
  },
  {
   "cell_type": "code",
   "execution_count": null,
   "metadata": {
    "colab": {
     "base_uri": "https://localhost:8080/",
     "height": 52
    },
    "colab_type": "code",
    "id": "iIa2iFpUUx_z",
    "outputId": "8329fd0b-bfb0-45e9-fe44-e711d0a6aff1"
   },
   "outputs": [],
   "source": [
    "y_all = transform_to_numeric(target)\n",
    "y_all.shape"
   ]
  },
  {
   "cell_type": "code",
   "execution_count": null,
   "metadata": {
    "colab": {
     "base_uri": "https://localhost:8080/",
     "height": 416
    },
    "colab_type": "code",
    "id": "PbdRC5FLk2br",
    "outputId": "3995c0a7-75d5-47ab-f43a-42c49280e597"
   },
   "outputs": [],
   "source": [
    "features = []\n",
    "\n",
    "for _, vals in raw_features.items():\n",
    "  vals = transform_to_numeric(vals)\n",
    "  print(vals.shape)\n",
    "  features.append(vals)\n",
    "\n",
    "features = np.stack(features, axis=1)\n",
    "features.shape"
   ]
  },
  {
   "cell_type": "code",
   "execution_count": null,
   "metadata": {
    "colab": {},
    "colab_type": "code",
    "id": "g3biP83kTlfk"
   },
   "outputs": [],
   "source": [
    "import pandas as pd\n",
    "import numpy as np\n",
    "import seaborn as sns"
   ]
  },
  {
   "cell_type": "code",
   "execution_count": null,
   "metadata": {
    "colab": {},
    "colab_type": "code",
    "id": "FG1W1gOJUk8k"
   },
   "outputs": [],
   "source": [
    "# length of last column\n",
    "#len(features[:, -1])"
   ]
  },
  {
   "cell_type": "code",
   "execution_count": null,
   "metadata": {
    "colab": {
     "base_uri": "https://localhost:8080/",
     "height": 34
    },
    "colab_type": "code",
    "id": "hZUX9CiCUlDx",
    "outputId": "aeaf0a0c-4cfd-444c-a649-aee8bd763a58"
   },
   "outputs": [],
   "source": [
    "# remove patient ids\n",
    "features = features[:, :-1]\n",
    "features.shape"
   ]
  },
  {
   "cell_type": "code",
   "execution_count": null,
   "metadata": {
    "colab": {
     "base_uri": "https://localhost:8080/",
     "height": 34
    },
    "colab_type": "code",
    "id": "8SuA8aoh1ZN2",
    "outputId": "0010ca4c-d7e0-4712-8e10-1edd594b52be"
   },
   "outputs": [],
   "source": [
    "features[0]"
   ]
  },
  {
   "cell_type": "code",
   "execution_count": null,
   "metadata": {
    "colab": {
     "base_uri": "https://localhost:8080/",
     "height": 52
    },
    "colab_type": "code",
    "id": "r245RUJCVBgk",
    "outputId": "927c58c4-adf1-49b2-d284-01c35a885abc"
   },
   "outputs": [],
   "source": [
    "print(features.shape, y_all.shape)\n",
    "print(type(features), type(y_all))"
   ]
  },
  {
   "cell_type": "code",
   "execution_count": null,
   "metadata": {
    "colab": {
     "base_uri": "https://localhost:8080/",
     "height": 34
    },
    "colab_type": "code",
    "id": "dtxrFK5zVWUo",
    "outputId": "b3fec034-fb14-4418-98af-bb964308363e"
   },
   "outputs": [],
   "source": [
    "# split data into train and test sets\n",
    "seed = 7\n",
    "test_size = 0.33\n",
    "X_train, X_test, y_train, y_test = train_test_split(features, y_all, test_size=test_size, random_state=seed)\n",
    "X_train.shape, X_test.shape, y_train.shape, y_test.shape"
   ]
  },
  {
   "cell_type": "code",
   "execution_count": null,
   "metadata": {
    "colab": {
     "base_uri": "https://localhost:8080/",
     "height": 34
    },
    "colab_type": "code",
    "id": "ufONB4wO4o4R",
    "outputId": "f45ce568-1afb-4c68-b20c-fc5486bb6568"
   },
   "outputs": [],
   "source": [
    "X_train[0], y_train[0]"
   ]
  },
  {
   "cell_type": "code",
   "execution_count": null,
   "metadata": {
    "colab": {
     "base_uri": "https://localhost:8080/",
     "height": 34
    },
    "colab_type": "code",
    "id": "G4FXbrRP3-tX",
    "outputId": "818bb9d2-355e-4a34-8c56-7efb8a33ab19"
   },
   "outputs": [],
   "source": [
    "# Define class weights for imbalacned data\n",
    "from sklearn.utils import class_weight\n",
    "class_weights = class_weight.compute_class_weight('balanced', np.unique(y_train), y_train)\n",
    "print(class_weights)"
   ]
  },
  {
   "cell_type": "code",
   "execution_count": null,
   "metadata": {
    "colab": {},
    "colab_type": "code",
    "id": "sVgP9GoiuOtB"
   },
   "outputs": [],
   "source": [
    "# Preprocessing\n",
    "\n",
    "#from sklearn.preprocessing import StandardScaler\n",
    "#sc = StandardScaler() # standardize -> z = (x - u) / s\n",
    "#X_train = sc.fit_transform(X_train)\n",
    "#X_test = sc.transform(X_test)\n",
    "\n",
    "#X_train.shape, X_test.shape"
   ]
  },
  {
   "cell_type": "code",
   "execution_count": null,
   "metadata": {
    "colab": {},
    "colab_type": "code",
    "id": "p9bcH-ifycDK"
   },
   "outputs": [],
   "source": [
    "from xgboost import XGBClassifier\n",
    "from sklearn.metrics import accuracy_score"
   ]
  },
  {
   "cell_type": "code",
   "execution_count": null,
   "metadata": {
    "colab": {},
    "colab_type": "code",
    "id": "qNF5xwhZDkgz"
   },
   "outputs": [],
   "source": [
    "#from keras.utils import np_utils\n",
    "# one hot encoded vectors\n",
    "#num_classes = 3\n",
    "#y_c = np_utils.to_categorical(y_train,num_classes)\n",
    "#print(y_c.shape)"
   ]
  },
  {
   "cell_type": "code",
   "execution_count": null,
   "metadata": {
    "colab": {
     "base_uri": "https://localhost:8080/",
     "height": 52
    },
    "colab_type": "code",
    "id": "X8b9orYkycK5",
    "outputId": "4178da4b-2652-4047-9764-ddcbdb10609e"
   },
   "outputs": [],
   "source": [
    "# fit model no training data\n",
    "model = XGBClassifier()\n",
    "model_1 = XGBClassifier(max_depth=3, learning_rate=0.01, n_estimators=500, objective='multi:softmax', num_class = 3)\n",
    "\n",
    "# Fit\n",
    "model_1.fit(X_train, y_train, verbose=True)\n",
    "\n",
    "# Make predictions for test data\n",
    "y_pred = model_1.predict(X_test)\n",
    "\n",
    "#By default, the predictions made by XGBoost are probabilities. Because this is a binary\n",
    "# classification problem, each prediction is the probability of the input pattern belonging to \n",
    "# the first class. We can easily convert them to binary class values by rounding them to 0 or 1.\n",
    "\n",
    "predictions = [round(value) for value in y_pred]\n",
    "print(predictions[:20])\n",
    "\n",
    "# Evaluate predictions\n",
    "accuracy = accuracy_score(y_test, predictions)\n",
    "print(\"Accuracy: %.2f%%\" % (accuracy * 100.0))"
   ]
  },
  {
   "cell_type": "code",
   "execution_count": null,
   "metadata": {
    "colab": {
     "base_uri": "https://localhost:8080/",
     "height": 245
    },
    "colab_type": "code",
    "id": "XiAfCw-VzErF",
    "outputId": "58ced0e5-880d-4b3b-c737-2205afdee676"
   },
   "outputs": [],
   "source": [
    "from sklearn.metrics import classification_report\n",
    "print(classification_report(y_test, predictions))"
   ]
  },
  {
   "cell_type": "code",
   "execution_count": null,
   "metadata": {
    "colab": {
     "base_uri": "https://localhost:8080/",
     "height": 156
    },
    "colab_type": "code",
    "id": "aBTGil5VfzOb",
    "outputId": "4b45a93b-fff3-45af-ae42-61136c04c862"
   },
   "outputs": [],
   "source": [
    "from sklearn.metrics import multilabel_confusion_matrix\n",
    "cm = multilabel_confusion_matrix(y_test, y_pred)\n",
    "cm"
   ]
  },
  {
   "cell_type": "code",
   "execution_count": null,
   "metadata": {
    "colab": {
     "base_uri": "https://localhost:8080/",
     "height": 69
    },
    "colab_type": "code",
    "id": "ZYueeGBCzE9t",
    "outputId": "ceb32d51-b00c-4167-a216-1a875d4b87b7"
   },
   "outputs": [],
   "source": [
    "from sklearn.metrics import confusion_matrix\n",
    "\n",
    "cm = confusion_matrix(y_test, y_pred)\n",
    "cm"
   ]
  },
  {
   "cell_type": "code",
   "execution_count": null,
   "metadata": {
    "colab": {
     "base_uri": "https://localhost:8080/",
     "height": 419
    },
    "colab_type": "code",
    "id": "lPGPMckzA0Tf",
    "outputId": "a9a9e708-dbd3-43e3-f2e3-fb0508650fa0"
   },
   "outputs": [],
   "source": [
    "import numpy as np\n",
    "import seaborn as sns\n",
    "import matplotlib.pyplot as plt\n",
    "\n",
    "def plot_confusion_matrix(cm, classes, normalized=True, cmap='bone'):\n",
    "    plt.figure(figsize=[7, 7])\n",
    "    norm_cm = cm\n",
    "    if normalized:\n",
    "        norm_cm = cm.astype('float') / cm.sum(axis=1)[:, np.newaxis]\n",
    "        sns.heatmap(norm_cm, annot=cm, fmt='g', xticklabels=classes, yticklabels=classes, cmap=cmap)\n",
    "        plt.savefig('confusion-matrix.png')\n",
    "\n",
    "plot_confusion_matrix(cm, ['Dosage 1', 'Dosage 2', 'Dosage 3'])"
   ]
  },
  {
   "cell_type": "code",
   "execution_count": null,
   "metadata": {
    "colab": {},
    "colab_type": "code",
    "id": "tTW-zwIndiII"
   },
   "outputs": [],
   "source": [
    "#https://www.tensorflow.org/tutorials/structured_data/feature_columns\n",
    "#https://machinelearningmastery.com/binary-classification-tutorial-with-the-keras-deep-learning-library/\n",
    "#https://machinelearningmastery.com/handle-missing-data-python/\n",
    "#https://github.com/hasibzunair/coursera-tensorflow-specialization/blob/master/Introduction%20to%20TensorFlow%20for%20Artificial%20Intelligence%2C%20Machine%20Learning%2C%20and%20Deep%20Learning/Week%201/Exercise_1_House_Prices_Question.ipynb"
   ]
  },
  {
   "cell_type": "code",
   "execution_count": null,
   "metadata": {
    "colab": {
     "base_uri": "https://localhost:8080/",
     "height": 34
    },
    "colab_type": "code",
    "id": "qp3Gy5AeGgUy",
    "outputId": "0c4e201f-4cca-4907-8e60-9baaba2c4b93"
   },
   "outputs": [],
   "source": [
    "X_train.shape, y_train.shape"
   ]
  },
  {
   "cell_type": "markdown",
   "metadata": {
    "colab_type": "text",
    "id": "4kt7GdnVadw0"
   },
   "source": [
    "### Deep learning"
   ]
  },
  {
   "cell_type": "code",
   "execution_count": null,
   "metadata": {
    "colab": {},
    "colab_type": "code",
    "id": "HFENh6dI01uH"
   },
   "outputs": [],
   "source": [
    "import tensorflow as tf\n",
    "import numpy as np\n",
    "from tensorflow import keras\n",
    "from keras import optimizers\n",
    "from keras.models import Sequential\n",
    "from keras.layers import Dense, Activation\n",
    "\n",
    "#model = tf.keras.Sequential([keras.layers.Dense(units=100, input_shape=[8])])\n",
    "#model.compile(optimizer='sgd', loss='mean_squared_error', metrics=['acc'])\n",
    "#print(model.summary())\n",
    "#model.fit(X_train, y_train, epochs=500)\n",
    "#scores = model.evaluate(X_test, y_test, verbose=1)\n",
    "#print('Test loss:', scores[0])\n",
    "#print('Test accuracy:', scores[1])"
   ]
  },
  {
   "cell_type": "code",
   "execution_count": null,
   "metadata": {
    "colab": {
     "base_uri": "https://localhost:8080/",
     "height": 34
    },
    "colab_type": "code",
    "id": "4524UwlvJUk0",
    "outputId": "4c0c852b-d1ec-48bd-96ae-bef52c0bedc3"
   },
   "outputs": [],
   "source": [
    "from keras.utils import np_utils\n",
    "# one hot encoded vectors\n",
    "num_classes = 3\n",
    "y_c = np_utils.to_categorical(y_train,num_classes)\n",
    "y_test_c = np_utils.to_categorical(y_test,num_classes)\n",
    "print(y_c.shape, y_test_c.shape)"
   ]
  },
  {
   "cell_type": "code",
   "execution_count": null,
   "metadata": {
    "colab": {
     "base_uri": "https://localhost:8080/",
     "height": 434
    },
    "colab_type": "code",
    "id": "b_hPgx72II6q",
    "outputId": "c97f8326-93a3-4774-ea53-4d508c3aaa7f"
   },
   "outputs": [],
   "source": [
    "from keras import backend as K\n",
    "import tensorflow as tf\n",
    "\n",
    "def focal_loss(gamma=2., alpha=.25):\n",
    "\tdef focal_loss_fixed(y_true, y_pred):\n",
    "\t\tpt_1 = tf.where(tf.equal(y_true, 1), y_pred, tf.ones_like(y_pred))\n",
    "\t\tpt_0 = tf.where(tf.equal(y_true, 0), y_pred, tf.zeros_like(y_pred))\n",
    "\t\treturn -K.mean(alpha * K.pow(1. - pt_1, gamma) * K.log(pt_1)) - K.mean((1 - alpha) * K.pow(pt_0, gamma) * K.log(1. - pt_0))\n",
    "\treturn focal_loss_fixed\n",
    "\n",
    "# Baseline model\n",
    "\n",
    "def create_baseline():\n",
    "  model = Sequential()\n",
    "  model.add(Dense(100, input_dim=8, activation='relu'))\n",
    "  model.add(Dense(256, activation='relu'))\n",
    "  model.add(Dense(512, activation='relu'))\n",
    "  model.add(Dense(1024, activation='relu'))\n",
    "  model.add(Dense(512, activation='relu'))\n",
    "  model.add(Dense(256, activation='relu'))\n",
    "  model.add(Dense(50, activation='relu'))\n",
    "  model.add(Dense(3, activation='softmax'))\n",
    "\n",
    "  adadelta = optimizers.Adadelta(lr=0.01)\n",
    "\n",
    "  model.compile(loss=[focal_loss(alpha=.25, gamma=2)], optimizer='sgd', metrics=['accuracy'])\n",
    "  return model\n",
    "\n",
    "model = None\n",
    "model = create_baseline()\n",
    "model.summary()"
   ]
  },
  {
   "cell_type": "code",
   "execution_count": null,
   "metadata": {
    "colab": {
     "base_uri": "https://localhost:8080/",
     "height": 1000
    },
    "colab_type": "code",
    "id": "RPFqzZbeI4QM",
    "outputId": "a406e37c-868d-4fc5-ed70-82628b6e5a93"
   },
   "outputs": [],
   "source": [
    "from keras.callbacks import ModelCheckpoint, CSVLogger, EarlyStopping, ReduceLROnPlateau\n",
    "early_stopping = EarlyStopping(monitor='val_loss', min_delta=0, verbose=1, patience=8, mode='min', restore_best_weights=True)\n",
    "\n",
    "model.fit(X_train, y_c, validation_data=(X_test, y_test_c), \n",
    "          batch_size=64, callbacks=[early_stopping], \n",
    "          epochs=1000, class_weight = class_weights, shuffle=True)"
   ]
  },
  {
   "cell_type": "code",
   "execution_count": null,
   "metadata": {
    "colab": {
     "base_uri": "https://localhost:8080/",
     "height": 590
    },
    "colab_type": "code",
    "id": "wBz7rxNASxHu",
    "outputId": "2ea921fd-001d-4b29-a3c2-d8fc45abac53"
   },
   "outputs": [],
   "source": [
    "# Plot and save accuravy loss graphs individually\n",
    "def plot_loss_accu(history):\n",
    "    loss = history.history['loss']\n",
    "    val_loss = history.history['val_loss']\n",
    "    epochs = range(len(loss))\n",
    "    plt.plot(epochs, loss, 'g')\n",
    "    plt.plot(epochs, val_loss, 'y')\n",
    "    plt.title('Training and validation loss')\n",
    "    plt.ylabel('Loss %')\n",
    "    plt.xlabel('Epoch')\n",
    "    plt.legend(['train', 'val'], loc='upper right')\n",
    "    plt.grid(True)\n",
    "    plt.savefig('{}/{}_loss.jpg'.format(base_path, \"loss\"), dpi=300)\n",
    "    #plt.savefig('{}/{}_loss.pdf'.format(output_path, EXP_NAME), dpi=300)\n",
    "    plt.show()\n",
    "    \n",
    "    loss = history.history['acc']\n",
    "    val_loss = history.history['val_acc']\n",
    "    epochs = range(len(loss))\n",
    "    plt.plot(epochs, loss, 'r')\n",
    "    plt.plot(epochs, val_loss, 'b')\n",
    "    plt.title('Training and validation accuracy')\n",
    "    plt.ylabel('Accuracy %')\n",
    "    plt.xlabel('Epoch')\n",
    "    plt.legend(['train', 'val'], loc='lower right')\n",
    "    plt.grid(True)\n",
    "    plt.savefig('{}/{}_acc.jpg'.format(base_path, \"acc\"), dpi=300)\n",
    "    #plt.savefig('{}/{}_acc.pdf'.format(output_path, EXP_NAME), dpi=300)\n",
    "    plt.show()\n",
    "\n",
    "plot_loss_accu(model.history)\n",
    "print(\"Done!\")"
   ]
  },
  {
   "cell_type": "code",
   "execution_count": null,
   "metadata": {
    "colab": {
     "base_uri": "https://localhost:8080/",
     "height": 34
    },
    "colab_type": "code",
    "id": "CFuGFavMjaGo",
    "outputId": "8a5361d2-ea1a-4d7f-8660-77c77b7013bc"
   },
   "outputs": [],
   "source": [
    "y_t = np.array([np.argmax(y) for y in y_test_c])\n",
    "y_t.shape"
   ]
  },
  {
   "cell_type": "code",
   "execution_count": null,
   "metadata": {
    "colab": {
     "base_uri": "https://localhost:8080/",
     "height": 34
    },
    "colab_type": "code",
    "id": "lQUvSKx-jKlc",
    "outputId": "b03bb828-4635-4a96-95c8-1c760cbbd153"
   },
   "outputs": [],
   "source": [
    "y_pred = model.predict(X_test)\n",
    "y_pred_flat = np.array([np.argmax(y) for y in y_pred])\n",
    "y_pred_flat.shape"
   ]
  },
  {
   "cell_type": "code",
   "execution_count": null,
   "metadata": {
    "colab": {
     "base_uri": "https://localhost:8080/",
     "height": 156
    },
    "colab_type": "code",
    "id": "GgTxq4IojKsa",
    "outputId": "7d889a6b-da6e-4de1-b2e1-d0c3ced6ee3b"
   },
   "outputs": [],
   "source": [
    "from sklearn.metrics import multilabel_confusion_matrix\n",
    "cm = multilabel_confusion_matrix(y_t, y_pred_flat)\n",
    "cm"
   ]
  },
  {
   "cell_type": "code",
   "execution_count": null,
   "metadata": {
    "colab": {
     "base_uri": "https://localhost:8080/",
     "height": 559
    },
    "colab_type": "code",
    "id": "MMOVmFQiqTOm",
    "outputId": "e239025a-bd46-4dd6-cb52-bb5845c28e88"
   },
   "outputs": [],
   "source": [
    "classes=['Dosage 1', 'Dosage 2', 'Dosage 3']\n",
    "\n",
    "def pretty_print_conf_matrix(y_true, y_pred, \n",
    "                             classes,\n",
    "                             normalize=False,\n",
    "                             title='Confusion matrix',\n",
    "                             cmap=plt.cm.Blues):\n",
    "    \"\"\"\n",
    "    Mostly stolen from: http://scikit-learn.org/stable/auto_examples/model_selection/plot_confusion_matrix.html#sphx-glr-auto-examples-model-selection-plot-confusion-matrix-py\n",
    "\n",
    "    Normalization changed, classification_report stats added below plot\n",
    "    \"\"\"\n",
    "\n",
    "    cm = confusion_matrix(y_true, y_pred)\n",
    "\n",
    "    # Configure Confusion Matrix Plot Aesthetics (no text yet) \n",
    "    plt.figure(num=None, figsize=(8, 6))\n",
    "    plt.imshow(cm, interpolation='nearest', cmap=cmap)\n",
    "    plt.title(title, fontsize=18)\n",
    "    tick_marks = np.arange(len(classes))\n",
    "    plt.xticks(tick_marks, classes, rotation=45)\n",
    "    plt.yticks(tick_marks, classes)\n",
    "    plt.ylabel('True label', fontsize=14)\n",
    "    plt.xlabel('Predicted label', fontsize=14)\n",
    "\n",
    "    # Calculate normalized values (so all cells sum to 1) if desired\n",
    "    if normalize:\n",
    "        cm = np.round(cm.astype('float') / cm.sum(),2) #(axis=1)[:, np.newaxis]\n",
    "    print('\\n')\n",
    "    # Place Numbers as Text on Confusion Matrix Plot\n",
    "    thresh = cm.max() / 2.\n",
    "    for i, j in itertools.product(range(cm.shape[0]), range(cm.shape[1])):\n",
    "        if i==0:\n",
    "          plt.text(j, i+0.4, cm[i, j],\n",
    "                   horizontalalignment=\"center\",\n",
    "                 color=\"white\" if cm[i, j] > thresh else \"black\",\n",
    "                 fontsize=20)\n",
    "        elif i==1:\n",
    "          plt.text(j, i+0.2, cm[i, j],\n",
    "                   horizontalalignment=\"center\",\n",
    "                 color=\"white\" if cm[i, j] > thresh else \"black\",\n",
    "                 fontsize=20)\n",
    "        else:\n",
    "          plt.text(j, i-0.2, cm[i, j],\n",
    "                   horizontalalignment=\"center\",\n",
    "                 color=\"white\" if cm[i, j] > thresh else \"black\",\n",
    "                 fontsize=20)\n",
    "\n",
    "    # Add Precision, Recall, F-1 Score as Captions Below Plot\n",
    "    rpt = classification_report(y_true, y_pred)\n",
    "    rpt = rpt.replace('avg / total', '      avg')\n",
    "    rpt = rpt.replace('support', 'N Obs')\n",
    "\n",
    "    plt.annotate(rpt, \n",
    "                 xy = (0,0), \n",
    "                 xytext = (-120, -260), \n",
    "                 xycoords='axes fraction', textcoords='offset points',\n",
    "                 fontsize=20, ha='left')    \n",
    "\n",
    "    # Plot\n",
    "    plt.tight_layout()\n",
    "    #plt.savefig('{}/{}.jpg'.format(base_path, \"cf\"), dpi=300)\n",
    "\n",
    "import itertools\n",
    "  \n",
    "pretty_print_conf_matrix(y_test, predictions, \n",
    "                         classes= ['Dosage 1', 'Dosage 2', 'Dosage 3'],\n",
    "                         normalize=False, \n",
    "                         title='Confusion Matrix')\n",
    "\n"
   ]
  },
  {
   "cell_type": "markdown",
   "metadata": {
    "colab_type": "text",
    "id": "ZLo8KzCMM0Dy"
   },
   "source": [
    "### Fancy graphs"
   ]
  },
  {
   "cell_type": "code",
   "execution_count": null,
   "metadata": {
    "colab": {
     "base_uri": "https://localhost:8080/",
     "height": 224
    },
    "colab_type": "code",
    "id": "AhWJDjA1M1rF",
    "outputId": "3e650e63-84f2-4884-e966-84894db1f40c"
   },
   "outputs": [],
   "source": [
    "dataset = pd.DataFrame({'Gender ID': features[:, 0], \n",
    "                        'Age': features[:, 1], \n",
    "                        'Diagnosis ID': features[:, 2],\n",
    "                        'Bio of Therapy': features[:, 3],\n",
    "                        'Patient Receiving Free Drug': features[:, 4],\n",
    "                        'Frequency': features[:, 5],\n",
    "                        'Status Group': features[:, 6],\n",
    "                        'Case State': features[:, 7],\n",
    "                        'Dosage': y_all})\n",
    "dataset.head()"
   ]
  },
  {
   "cell_type": "code",
   "execution_count": null,
   "metadata": {
    "colab": {
     "base_uri": "https://localhost:8080/",
     "height": 346
    },
    "colab_type": "code",
    "id": "4hjAMYaeM8hs",
    "outputId": "4914d6ec-6ba8-4b2e-c122-64779a791bb5"
   },
   "outputs": [],
   "source": [
    "feat_name = \"Dosage\"\n",
    "\n",
    "fig, ax = plt.subplots(1, 1, figsize= (10, 5))\n",
    "dataset[feat_name].value_counts().plot(kind='bar', ax=ax, title=\"Histogram of {}\".format(feat_name), color='g')\n",
    "\n",
    "ax.set_xlabel(feat_name)\n",
    "ax.set_ylabel(\"Number of occurences\")\n",
    "plt.savefig('{}/{}_hist.png'.format(base_path, feat_name), dpi=300)"
   ]
  },
  {
   "cell_type": "code",
   "execution_count": null,
   "metadata": {
    "colab": {
     "base_uri": "https://localhost:8080/",
     "height": 298
    },
    "colab_type": "code",
    "id": "wJauVyYlNA8K",
    "outputId": "3772cf87-9682-474a-91d3-30e57eb1a0e2"
   },
   "outputs": [],
   "source": [
    "# Normalize\n",
    "kwargs = dict(alpha=0.5, bins=100, density=True, stacked=True)\n",
    "\n",
    "# Plot\n",
    "plt.hist(dataset[\"Gender ID\"].values, **kwargs, rwidth=0.2, color='g', label='Gender ID')\n",
    "plt.hist(dataset[\"Age\"].values, **kwargs, color='b', label='Age')\n",
    "plt.hist(dataset[\"Diagnosis ID\"].values, **kwargs, color='r', label='Diagnosis ID')\n",
    "plt.hist(dataset[\"Bio of Therapy\"].values, **kwargs, color='pink', label='Bio of Therapy')\n",
    "plt.hist(dataset[\"Patient Receiving Free Drug\"].values, **kwargs, color='olive', label='Patient Receiving Free Drug')\n",
    "plt.hist(dataset[\"Frequency\"].values, **kwargs, color='dodgerblue', label='Frequency')\n",
    "plt.hist(dataset[\"Status Group\"].values, **kwargs, color='orange', label='Status Group')\n",
    "plt.hist(dataset[\"Case State\"].values, **kwargs, color='deeppink', label='Case State')\n",
    "plt.hist(dataset[\"Dosage\"].values, **kwargs, color='gold', label='Dosage')\n",
    "plt.gca().set(title='Feature Histogram', ylabel='# of occurences')\n",
    "plt.ylim(0,10)\n",
    "plt.legend()"
   ]
  },
  {
   "cell_type": "code",
   "execution_count": null,
   "metadata": {
    "colab": {
     "base_uri": "https://localhost:8080/",
     "height": 1000
    },
    "colab_type": "code",
    "id": "UQ0GqYe4NFDU",
    "outputId": "65b5638c-6ae6-4cfa-9838-8a11b17b4a4a"
   },
   "outputs": [],
   "source": [
    "sns.pairplot(dataset)"
   ]
  },
  {
   "cell_type": "code",
   "execution_count": null,
   "metadata": {
    "colab": {
     "base_uri": "https://localhost:8080/",
     "height": 1000
    },
    "colab_type": "code",
    "id": "mmOjuMihNIT9",
    "outputId": "7ef26717-5123-4e58-b92c-921b53f8e1fe"
   },
   "outputs": [],
   "source": [
    "g = sns.pairplot(dataset, hue=\"Gender ID\")"
   ]
  },
  {
   "cell_type": "code",
   "execution_count": null,
   "metadata": {
    "colab": {
     "base_uri": "https://localhost:8080/",
     "height": 365
    },
    "colab_type": "code",
    "id": "yjhXoZ62NKnh",
    "outputId": "b04de412-2df1-4235-ebe9-83747e26d7eb"
   },
   "outputs": [],
   "source": [
    "g = sns.pairplot(dataset, vars=[\"Age\", \"Dosage\"])"
   ]
  },
  {
   "cell_type": "code",
   "execution_count": null,
   "metadata": {
    "colab": {
     "base_uri": "https://localhost:8080/",
     "height": 1000
    },
    "colab_type": "code",
    "id": "4xJobap4NXGz",
    "outputId": "b595065c-c88c-4fb7-b14b-69701bea3220"
   },
   "outputs": [],
   "source": [
    "g = sns.pairplot(dataset, diag_kind=\"kde\")"
   ]
  },
  {
   "cell_type": "code",
   "execution_count": null,
   "metadata": {
    "colab": {
     "base_uri": "https://localhost:8080/",
     "height": 1000
    },
    "colab_type": "code",
    "id": "WmpNpyPoNfsN",
    "outputId": "8c65ed63-8b9e-4cc6-b0ea-7ebba786973f"
   },
   "outputs": [],
   "source": [
    "g = sns.pairplot(dataset, kind=\"reg\")"
   ]
  },
  {
   "cell_type": "code",
   "execution_count": null,
   "metadata": {
    "colab": {
     "base_uri": "https://localhost:8080/",
     "height": 798
    },
    "colab_type": "code",
    "id": "bz2YC9cLNhq8",
    "outputId": "28e96abc-4037-411d-8198-3efe242c2dd5"
   },
   "outputs": [],
   "source": [
    "plt.figure(figsize=(10,11))\n",
    "sns.heatmap(dataset.corr(),annot=True)\n",
    "plt.plot()"
   ]
  },
  {
   "cell_type": "code",
   "execution_count": null,
   "metadata": {
    "colab": {
     "base_uri": "https://localhost:8080/",
     "height": 623
    },
    "colab_type": "code",
    "id": "IB2boqzaNjbQ",
    "outputId": "1c326074-276b-4dc7-8007-8f86530e121e"
   },
   "outputs": [],
   "source": [
    "x = \"Age\"\n",
    "y = \"Dosage\"\n",
    "\n",
    "data = dataset\n",
    "plt.figure(figsize=(12,10))\n",
    "plt.subplot(2,2,1)\n",
    "sns.violinplot(x=x,y=y,data=data)\n",
    "plt.subplot(2,2,2)\n",
    "sns.violinplot(x=x,y=y,data=data)\n",
    "plt.subplot(2,2,3)\n",
    "sns.violinplot(x=x,y=y,data=data)\n",
    "plt.subplot(2,2,4)\n",
    "sns.violinplot(x=x,y=y,data=data)"
   ]
  },
  {
   "cell_type": "code",
   "execution_count": null,
   "metadata": {
    "colab": {
     "base_uri": "https://localhost:8080/",
     "height": 623
    },
    "colab_type": "code",
    "id": "_Ol9LXR7NnlX",
    "outputId": "2efca180-8f6d-4d85-e1c8-5fab0d3e2a48"
   },
   "outputs": [],
   "source": [
    "x = \"Age\"\n",
    "y = \"Dosage\"\n",
    "\n",
    "data = dataset\n",
    "plt.figure(figsize=(12,10))\n",
    "plt.subplot(2,2,1)\n",
    "sns.boxplot(x=x,y=y,data=data)\n",
    "plt.subplot(2,2,2)\n",
    "sns.boxplot(x=x,y=y,data=data)\n",
    "plt.subplot(2,2,3)\n",
    "sns.boxplot(x=x,y=y,data=data)\n",
    "plt.subplot(2,2,4)\n",
    "sns.boxplot(x=x,y=y,data=data)"
   ]
  },
  {
   "cell_type": "code",
   "execution_count": null,
   "metadata": {
    "colab": {},
    "colab_type": "code",
    "id": "5FVIBXW7Nr9d"
   },
   "outputs": [],
   "source": [
    "#https://www.kaggle.com/lnbalon/iris-dataset-eda-and-classification-analysis"
   ]
  },
  {
   "cell_type": "code",
   "execution_count": null,
   "metadata": {
    "colab": {},
    "colab_type": "code",
    "id": "0wReq1D-Nt6F"
   },
   "outputs": [],
   "source": []
  }
 ],
 "metadata": {
  "accelerator": "GPU",
  "colab": {
   "collapsed_sections": [],
   "name": "pharmahacks.ipynb",
   "provenance": []
  },
  "kernelspec": {
   "display_name": "Python 3",
   "language": "python",
   "name": "python3"
  },
  "language_info": {
   "codemirror_mode": {
    "name": "ipython",
    "version": 3
   },
   "file_extension": ".py",
   "mimetype": "text/x-python",
   "name": "python",
   "nbconvert_exporter": "python",
   "pygments_lexer": "ipython3",
   "version": "3.6.8"
  }
 },
 "nbformat": 4,
 "nbformat_minor": 4
}
